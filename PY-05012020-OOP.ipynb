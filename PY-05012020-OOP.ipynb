{
 "cells": [
  {
   "cell_type": "markdown",
   "metadata": {},
   "source": [
    "# OOP"
   ]
  },
  {
   "cell_type": "code",
   "execution_count": 3,
   "metadata": {},
   "outputs": [],
   "source": [
    "s1name = \"Std1\"\n",
    "s1fname = \"Student1\"\n",
    "s1age = 35\n",
    "def s1login(): pass\n",
    "def s1logout(): pass\n",
    "def s1quiz(): pass\n",
    "\n",
    "s1name = \"Std2\"\n",
    "s1fname = \"Student2\"\n",
    "s1age = 30\n",
    "def s1login(): pass\n",
    "def s1logout(): pass\n",
    "def s1quiz(): pass"
   ]
  },
  {
   "cell_type": "code",
   "execution_count": 6,
   "metadata": {},
   "outputs": [],
   "source": [
    "class Student(): #Class\n",
    "    pass\n",
    "\n",
    "s1 = Student() #Instance/Object #Call Coonstructor\n"
   ]
  },
  {
   "cell_type": "markdown",
   "metadata": {},
   "source": [
    "# Method And Attributes"
   ]
  },
  {
   "cell_type": "code",
   "execution_count": 25,
   "metadata": {},
   "outputs": [
    {
     "name": "stdout",
     "output_type": "stream",
     "text": [
      "1\n",
      "2\n",
      "3\n"
     ]
    }
   ],
   "source": [
    "class Student():\n",
    "    def __init__(self, sid): #Constructor\n",
    "        self.sid = sid #Atrributes/Properties/DataMemebrs/Fields\n",
    "        self.name = \"\" \n",
    "        self.fname = \"\"\n",
    "        self.DOB = 0\n",
    "        \n",
    "    def login(self, user, password): #Function\n",
    "        self.name = user\n",
    "        print(\"Welcome\",self.name)\n",
    "        \n",
    "    def logout(self):\n",
    "        print(\"Logout!\")\n",
    "        \n",
    "s1 = Student(1)\n",
    "s2 = Student(2)\n",
    "s3 = Student(3)\n",
    "\n",
    "print(s1.sid, s2.sid, s3.sid, sep=\"\\n\")"
   ]
  },
  {
   "cell_type": "code",
   "execution_count": 26,
   "metadata": {},
   "outputs": [
    {
     "name": "stdout",
     "output_type": "stream",
     "text": [
      "A\n",
      "B\n",
      "C\n"
     ]
    }
   ],
   "source": [
    "s1.name = \"A\"\n",
    "s2.name = \"B\"\n",
    "s3.name = \"C\"\n",
    "\n",
    "print(s1.name, s2.name, s3.name, sep=\"\\n\")"
   ]
  },
  {
   "cell_type": "code",
   "execution_count": 27,
   "metadata": {},
   "outputs": [
    {
     "name": "stdout",
     "output_type": "stream",
     "text": [
      "Welcome badar\n"
     ]
    }
   ],
   "source": [
    "s3.login(\"badar\",\"123\")"
   ]
  },
  {
   "cell_type": "markdown",
   "metadata": {},
   "source": [
    "# Class Variable"
   ]
  },
  {
   "cell_type": "code",
   "execution_count": 43,
   "metadata": {},
   "outputs": [],
   "source": [
    "class Student():\n",
    "    \n",
    "    counter = 0 # Class Variable\n",
    "    \n",
    "    def __init__(self, sid): #Constructor\n",
    "        self.sid = sid #Atrributes/Properties/DataMemebrs/Fields\n",
    "        self.name = \"\" \n",
    "        self.fname = \"\"\n",
    "        self.DOB = 0\n",
    "        Student.counter += 1 #update class variable\n",
    "        \n",
    "    def login(self, user, password): #Function\n",
    "        self.name = user\n",
    "        print(\"Welcome\",self.name)\n",
    "        \n",
    "    def logout(self):\n",
    "        print(\"Logout!\")\n",
    "        "
   ]
  },
  {
   "cell_type": "code",
   "execution_count": 41,
   "metadata": {},
   "outputs": [
    {
     "data": {
      "text/plain": [
       "3"
      ]
     },
     "execution_count": 41,
     "metadata": {},
     "output_type": "execute_result"
    }
   ],
   "source": [
    "s1 = Student(1)\n",
    "s2 = Student(2)\n",
    "s3 = Student(3)\n",
    "\n",
    "Student.counter #calling with class Ref"
   ]
  },
  {
   "cell_type": "code",
   "execution_count": 44,
   "metadata": {},
   "outputs": [
    {
     "data": {
      "text/plain": [
       "3"
      ]
     },
     "execution_count": 44,
     "metadata": {},
     "output_type": "execute_result"
    }
   ],
   "source": [
    "s1.counter"
   ]
  },
  {
   "cell_type": "markdown",
   "metadata": {},
   "source": [
    "# INHERITANCE"
   ]
  },
  {
   "cell_type": "code",
   "execution_count": 48,
   "metadata": {},
   "outputs": [
    {
     "name": "stdout",
     "output_type": "stream",
     "text": [
      "Brown\n",
      "Brown\n"
     ]
    }
   ],
   "source": [
    "class Parent():\n",
    "    def __init__(self):\n",
    "        self.name = \"PN\"\n",
    "        self.id = 0\n",
    "        self.eye_color = \"Brown\"\n",
    "        \n",
    "    def speak(self):\n",
    "        print(\"Parent Speaking..\")\n",
    "        \n",
    "    def eat(self):\n",
    "        print(\"Eating food...\")\n",
    "        \n",
    "class Child(Parent):\n",
    "    pass\n",
    "    \n",
    "p1 = Parent()\n",
    "print(p1.eye_color)\n",
    "\n",
    "c1 = Child()\n",
    "print(c1.eye_color)"
   ]
  },
  {
   "cell_type": "code",
   "execution_count": 61,
   "metadata": {},
   "outputs": [
    {
     "name": "stdout",
     "output_type": "stream",
     "text": [
      "Tahira\n",
      "Mother speaking\n",
      "Yousaf\n",
      "Father speaking...\n"
     ]
    }
   ],
   "source": [
    "# Multi Inheritance\n",
    "\n",
    "class Father():\n",
    "    def __init__(self):\n",
    "        self.eye_color = \"Brwon\"\n",
    "        self.face_color = \"White\"\n",
    "        self.hair_color = \"Black\"\n",
    "        self.name = \"Yousaf\"\n",
    "        \n",
    "    def speak(self):\n",
    "        print(\"Father speaking...\")\n",
    "        \n",
    "    def eat(self):\n",
    "        print(\"Father eating...\")\n",
    "        \n",
    "class Mother():\n",
    "    def __init__(self):\n",
    "        self.height = \"MHeight\"\n",
    "        self.weight = \"MWeight\"\n",
    "        self.hair_color = \"DarkBrown\"\n",
    "        self.name = \"Tahira\"\n",
    "        \n",
    "    def speak(self):\n",
    "        print(\"Mother speaking\")\n",
    "        \n",
    "    def eat(self):\n",
    "        print(\"Mother eating\")\n",
    "        \n",
    "class Child(Father, Mother):\n",
    "    pass\n",
    "\n",
    "c1 = Child()\n",
    "\n",
    "        \n",
    "m1 = Mother()\n",
    "print(m1.name)\n",
    "m1.speak()\n",
    "f1 = Father()\n",
    "print(f1.name)\n",
    "f1.speak()"
   ]
  },
  {
   "cell_type": "code",
   "execution_count": 63,
   "metadata": {},
   "outputs": [
    {
     "data": {
      "text/plain": [
       "'Black'"
      ]
     },
     "execution_count": 63,
     "metadata": {},
     "output_type": "execute_result"
    }
   ],
   "source": [
    "c1.hair_color"
   ]
  },
  {
   "cell_type": "code",
   "execution_count": 65,
   "metadata": {},
   "outputs": [
    {
     "name": "stdout",
     "output_type": "stream",
     "text": [
      "Father eating...\n"
     ]
    }
   ],
   "source": [
    "c1.eat()"
   ]
  },
  {
   "cell_type": "code",
   "execution_count": 72,
   "metadata": {},
   "outputs": [
    {
     "name": "stdout",
     "output_type": "stream",
     "text": [
      "Badar\n",
      "Developer\n"
     ]
    }
   ],
   "source": [
    "class Employee():\n",
    "    def __init__(self, id , name, salary):\n",
    "        self.id = id\n",
    "        self.name = name\n",
    "        self.salary = salary\n",
    "        \n",
    "class Developer(Employee):\n",
    "    def __init__(self, id, name, salary, designation):\n",
    "        super().__init__(id, name, salary)\n",
    "        self.designation = designation\n",
    "        \n",
    "d1 = Developer(1, \"Badar\", 200000, \"Developer\")\n",
    "print(d1.name)\n",
    "print(d1.designation)"
   ]
  },
  {
   "cell_type": "markdown",
   "metadata": {},
   "source": [
    "# POLYMORHISM"
   ]
  },
  {
   "cell_type": "markdown",
   "metadata": {},
   "source": [
    "# Overloading"
   ]
  },
  {
   "cell_type": "code",
   "execution_count": 76,
   "metadata": {},
   "outputs": [
    {
     "name": "stdout",
     "output_type": "stream",
     "text": [
      "13\n",
      "13.2\n",
      "27\n"
     ]
    }
   ],
   "source": [
    "# Function behaving mulitple behavior\n",
    "class A():\n",
    "    def abc(self, *n):\n",
    "        print(sum(n))\n",
    "        \n",
    "obj1 = A()\n",
    "obj1.abc(1,3,3,6)\n",
    "obj1.abc(5,8.2)\n",
    "obj1.abc(7,20)"
   ]
  },
  {
   "cell_type": "code",
   "execution_count": null,
   "metadata": {},
   "outputs": [],
   "source": [
    "# Operator Overloading\n",
    "obj1. __add__(7,12)"
   ]
  },
  {
   "cell_type": "markdown",
   "metadata": {},
   "source": [
    "# Overriding"
   ]
  },
  {
   "cell_type": "code",
   "execution_count": 79,
   "metadata": {},
   "outputs": [
    {
     "name": "stdout",
     "output_type": "stream",
     "text": [
      "Ba2\n",
      "Aa1\n"
     ]
    }
   ],
   "source": [
    "# Inheritance must for overriding\n",
    "class A():\n",
    "    def a1(self):\n",
    "        print(\"Aa1\")\n",
    "    def a2(self):\n",
    "        print(\"Aa2\")\n",
    "        \n",
    "class B(A):\n",
    "    def a2(self):\n",
    "        print(\"Ba2\") # Over Riding\n",
    "        \n",
    "obj1 = B()\n",
    "obj1.a2()\n",
    "obj1.a1()\n"
   ]
  },
  {
   "cell_type": "code",
   "execution_count": null,
   "metadata": {},
   "outputs": [],
   "source": []
  }
 ],
 "metadata": {
  "kernelspec": {
   "display_name": "Python 3",
   "language": "python",
   "name": "python3"
  },
  "language_info": {
   "codemirror_mode": {
    "name": "ipython",
    "version": 3
   },
   "file_extension": ".py",
   "mimetype": "text/x-python",
   "name": "python",
   "nbconvert_exporter": "python",
   "pygments_lexer": "ipython3",
   "version": "3.7.4"
  }
 },
 "nbformat": 4,
 "nbformat_minor": 2
}
