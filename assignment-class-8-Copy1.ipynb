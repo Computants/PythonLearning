{
 "cells": [
  {
   "cell_type": "code",
   "execution_count": 26,
   "metadata": {},
   "outputs": [
    {
     "name": "stdout",
     "output_type": "stream",
     "text": [
      "1000\n",
      "999\n",
      "998\n",
      "997\n",
      "996\n",
      "995\n",
      "994\n",
      "993\n",
      "992\n",
      "991\n",
      "990\n"
     ]
    }
   ],
   "source": [
    "counter=1000\n",
    "while counter>=990:\n",
    "    print(counter)\n",
    "    counter -= 1"
   ]
  },
  {
   "cell_type": "code",
   "execution_count": 2,
   "metadata": {},
   "outputs": [
    {
     "name": "stdout",
     "output_type": "stream",
     "text": [
      "1000\n",
      "999\n",
      "998\n",
      "997\n",
      "996\n",
      "995\n",
      "994\n",
      "993\n",
      "992\n",
      "991\n",
      "990\n"
     ]
    }
   ],
   "source": [
    "for i in reversed(range(1001)):\n",
    "    print(i)\n",
    "    if i==990: break"
   ]
  },
  {
   "cell_type": "code",
   "execution_count": 3,
   "metadata": {},
   "outputs": [
    {
     "name": "stdout",
     "output_type": "stream",
     "text": [
      "1000\n",
      "999\n",
      "998\n",
      "997\n",
      "996\n",
      "995\n",
      "994\n",
      "993\n",
      "992\n",
      "991\n",
      "990\n"
     ]
    }
   ],
   "source": [
    "for i in range(1000,989,-1):\n",
    "    print(i)"
   ]
  },
  {
   "cell_type": "markdown",
   "metadata": {},
   "source": [
    "#2- with assci code 65-90, 97-122, 48-57 print chracters base on above range with for loop"
   ]
  },
  {
   "cell_type": "code",
   "execution_count": 4,
   "metadata": {},
   "outputs": [
    {
     "name": "stdout",
     "output_type": "stream",
     "text": [
      "Character of ASCII code 65 = A\n",
      "Character of ASCII code 66 = B\n",
      "Character of ASCII code 67 = C\n",
      "Character of ASCII code 68 = D\n",
      "Character of ASCII code 69 = E\n",
      "Character of ASCII code 70 = F\n",
      "Character of ASCII code 71 = G\n",
      "Character of ASCII code 72 = H\n",
      "Character of ASCII code 73 = I\n",
      "Character of ASCII code 74 = J\n",
      "Character of ASCII code 75 = K\n",
      "Character of ASCII code 76 = L\n",
      "Character of ASCII code 77 = M\n",
      "Character of ASCII code 78 = N\n",
      "Character of ASCII code 79 = O\n",
      "Character of ASCII code 80 = P\n",
      "Character of ASCII code 81 = Q\n",
      "Character of ASCII code 82 = R\n",
      "Character of ASCII code 83 = S\n",
      "Character of ASCII code 84 = T\n",
      "Character of ASCII code 85 = U\n",
      "Character of ASCII code 86 = V\n",
      "Character of ASCII code 87 = W\n",
      "Character of ASCII code 88 = X\n",
      "Character of ASCII code 89 = Y\n",
      "Character of ASCII code 90 = Z\n"
     ]
    }
   ],
   "source": [
    "for i in range(65,91):\n",
    "\n",
    "    print(\"Character of ASCII code \" + str(i) + \" = \" + chr(i))\n",
    "\n"
   ]
  },
  {
   "cell_type": "code",
   "execution_count": 5,
   "metadata": {},
   "outputs": [
    {
     "name": "stdout",
     "output_type": "stream",
     "text": [
      "Character of ASCII code 97 = a\n",
      "Character of ASCII code 98 = b\n",
      "Character of ASCII code 99 = c\n",
      "Character of ASCII code 100 = d\n",
      "Character of ASCII code 101 = e\n",
      "Character of ASCII code 102 = f\n",
      "Character of ASCII code 103 = g\n",
      "Character of ASCII code 104 = h\n",
      "Character of ASCII code 105 = i\n",
      "Character of ASCII code 106 = j\n",
      "Character of ASCII code 107 = k\n",
      "Character of ASCII code 108 = l\n",
      "Character of ASCII code 109 = m\n",
      "Character of ASCII code 110 = n\n",
      "Character of ASCII code 111 = o\n",
      "Character of ASCII code 112 = p\n",
      "Character of ASCII code 113 = q\n",
      "Character of ASCII code 114 = r\n",
      "Character of ASCII code 115 = s\n",
      "Character of ASCII code 116 = t\n",
      "Character of ASCII code 117 = u\n",
      "Character of ASCII code 118 = v\n",
      "Character of ASCII code 119 = w\n",
      "Character of ASCII code 120 = x\n",
      "Character of ASCII code 121 = y\n",
      "Character of ASCII code 122 = z\n"
     ]
    }
   ],
   "source": [
    "for i in range(97,123):\n",
    "\n",
    "    print(\"Character of ASCII code \" + str(i) + \" = \" + chr(i))\n",
    "\n"
   ]
  },
  {
   "cell_type": "code",
   "execution_count": 6,
   "metadata": {},
   "outputs": [
    {
     "name": "stdout",
     "output_type": "stream",
     "text": [
      "Character of ASCII code 48 = 0\n",
      "Character of ASCII code 49 = 1\n",
      "Character of ASCII code 50 = 2\n",
      "Character of ASCII code 51 = 3\n",
      "Character of ASCII code 52 = 4\n",
      "Character of ASCII code 53 = 5\n",
      "Character of ASCII code 54 = 6\n",
      "Character of ASCII code 55 = 7\n",
      "Character of ASCII code 56 = 8\n",
      "Character of ASCII code 57 = 9\n"
     ]
    }
   ],
   "source": [
    "for i in range(48,58):\n",
    "\n",
    "    print(\"Character of ASCII code \" + str(i) + \" = \" + chr(i))"
   ]
  },
  {
   "cell_type": "code",
   "execution_count": 17,
   "metadata": {},
   "outputs": [
    {
     "name": "stdout",
     "output_type": "stream",
     "text": [
      "A a 0\n",
      "B b 1\n",
      "C c 2\n",
      "D d 3\n",
      "E e 4\n",
      "F f 5\n",
      "G g 6\n",
      "H h 7\n",
      "I i 8\n",
      "J j 9\n",
      "K k  \n",
      "L l  \n",
      "M m  \n",
      "N n  \n",
      "O o  \n",
      "P p  \n",
      "Q q  \n",
      "R r  \n",
      "S s  \n",
      "T t  \n",
      "U u  \n",
      "V v  \n",
      "W w  \n",
      "X x  \n",
      "Y y  \n",
      "Z z  \n"
     ]
    }
   ],
   "source": [
    "lstCollection = [list(range(65,91)), list(range(97,123)), list(range(48,58))]\n",
    "counter = 0\n",
    "while counter < len(lstCollection[0]):    \n",
    "    print(chr(lstCollection[0][counter]),chr(lstCollection[1][counter]),(chr(lstCollection[2][counter]) \n",
    "           if counter < len(lstCollection[2]) else chr(32)))\n",
    "    counter+=1"
   ]
  },
  {
   "cell_type": "code",
   "execution_count": 19,
   "metadata": {},
   "outputs": [
    {
     "name": "stdout",
     "output_type": "stream",
     "text": [
      "Enter number please:3\n",
      "User eneted number is: 3\n",
      "1 x 1 = 1\n",
      "1 x 2 = 2\n",
      "1 x 3 = 3\n",
      "1 x 4 = 4\n",
      "1 x 5 = 5\n",
      "1 x 6 = 6\n",
      "1 x 7 = 7\n",
      "1 x 8 = 8\n",
      "1 x 9 = 9\n",
      "1 x 10 = 10\n",
      "2 x 1 = 2\n",
      "2 x 2 = 4\n",
      "2 x 3 = 6\n",
      "2 x 4 = 8\n",
      "2 x 5 = 10\n",
      "2 x 6 = 12\n",
      "2 x 7 = 14\n",
      "2 x 8 = 16\n",
      "2 x 9 = 18\n",
      "2 x 10 = 20\n",
      "3 x 1 = 3\n",
      "3 x 2 = 6\n",
      "3 x 3 = 9\n",
      "3 x 4 = 12\n",
      "3 x 5 = 15\n",
      "3 x 6 = 18\n",
      "3 x 7 = 21\n",
      "3 x 8 = 24\n",
      "3 x 9 = 27\n",
      "3 x 10 = 30\n"
     ]
    }
   ],
   "source": [
    "#3- print tables\n",
    "n = input(\"Enter number please:\")\n",
    "print(\"User eneted number is: \" + n)\n",
    "if n == \"3\":\n",
    "    for i in range(1,4):\n",
    "\n",
    "        for ii in range(1,11):\n",
    "\n",
    "            print(str(i) + \" x \" + str(ii) + \" = \" + str(i * ii))"
   ]
  },
  {
   "cell_type": "code",
   "execution_count": 25,
   "metadata": {},
   "outputs": [
    {
     "name": "stdout",
     "output_type": "stream",
     "text": [
      "Please Enter number:3\n",
      "1 x 1 = 1\t2 x 1 = 2\t3 x 1 = 3\n",
      "1 x 2 = 2\t2 x 2 = 4\t3 x 2 = 6\n",
      "1 x 3 = 3\t2 x 3 = 6\t3 x 3 = 9\n",
      "1 x 4 = 4\t2 x 4 = 8\t3 x 4 = 12\n",
      "1 x 5 = 5\t2 x 5 = 10\t3 x 5 = 15\n",
      "1 x 6 = 6\t2 x 6 = 12\t3 x 6 = 18\n",
      "1 x 7 = 7\t2 x 7 = 14\t3 x 7 = 21\n",
      "1 x 8 = 8\t2 x 8 = 16\t3 x 8 = 24\n",
      "1 x 9 = 9\t2 x 9 = 18\t3 x 9 = 27\n",
      "1 x 10 = 10\t2 x 10 = 20\t3 x 10 = 30\n"
     ]
    }
   ],
   "source": [
    "nmbr = input(\"Please Enter number:\")\n",
    "for n1 in range(1,11):\n",
    "    for n2 in range(1,int(nmbr)+1):\n",
    "        if n2==int(nmbr):\n",
    "            endchr = '\\n'\n",
    "        else:\n",
    "            endchr='\\t'\n",
    "        print(str(n2)+ ' x '+ str(n1)+' = ' + str(n1*n2), end=endchr)"
   ]
  },
  {
   "cell_type": "code",
   "execution_count": 27,
   "metadata": {},
   "outputs": [
    {
     "data": {
      "text/plain": [
       "[(0, 3), (1, 4), (2, 5)]"
      ]
     },
     "execution_count": 27,
     "metadata": {},
     "output_type": "execute_result"
    }
   ],
   "source": [
    "list (enumerate([6,9,2]))"
   ]
  }
 ],
 "metadata": {
  "kernelspec": {
   "display_name": "Python 3",
   "language": "python",
   "name": "python3"
  },
  "language_info": {
   "codemirror_mode": {
    "name": "ipython",
    "version": 3
   },
   "file_extension": ".py",
   "mimetype": "text/x-python",
   "name": "python",
   "nbconvert_exporter": "python",
   "pygments_lexer": "ipython3",
   "version": "3.7.4"
  }
 },
 "nbformat": 4,
 "nbformat_minor": 2
}
