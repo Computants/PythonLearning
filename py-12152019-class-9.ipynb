{
 "cells": [
  {
   "cell_type": "markdown",
   "metadata": {},
   "source": [
    "# Class 8\n",
    "## Dictionaries "
   ]
  },
  {
   "cell_type": "code",
   "execution_count": 2,
   "metadata": {},
   "outputs": [
    {
     "data": {
      "text/plain": [
       "[2, 'Qasim', 'A.I']"
      ]
     },
     "execution_count": 2,
     "metadata": {},
     "output_type": "execute_result"
    }
   ],
   "source": [
    "#     0    1       2\n",
    "l1 = [2,\"Qasim\", \"A.I\"]\n",
    "#     -3   -2      -\n",
    "\n",
    "#list[element1, element2, elemt=ent3,....]\n",
    "#list[index]\n",
    "l1"
   ]
  },
  {
   "cell_type": "markdown",
   "metadata": {},
   "source": [
    "# Dictionary"
   ]
  },
  {
   "cell_type": "code",
   "execution_count": 3,
   "metadata": {},
   "outputs": [],
   "source": [
    "# item = key:value\n",
    "\n",
    "# {key1: value1,\n",
    "# key2: value2,\n",
    "# key3: value3,...}"
   ]
  },
  {
   "cell_type": "code",
   "execution_count": 4,
   "metadata": {},
   "outputs": [
    {
     "data": {
      "text/plain": [
       "{'id': 2, 'name': 'Badar', 'Course': 'AI'}"
      ]
     },
     "execution_count": 4,
     "metadata": {},
     "output_type": "execute_result"
    }
   ],
   "source": [
    "d1 = {\"id\":2,\n",
    "     \"name\":\"Badar\",\n",
    "     \"Course\":\"AI\"}\n",
    "d1"
   ]
  },
  {
   "cell_type": "code",
   "execution_count": 9,
   "metadata": {
    "scrolled": true
   },
   "outputs": [
    {
     "data": {
      "text/plain": [
       "{'id': 10, 'name': 'Badar', 'course': 'AI'}"
      ]
     },
     "execution_count": 9,
     "metadata": {},
     "output_type": "execute_result"
    }
   ],
   "source": [
    "d1 = {} #empty dictionary\n",
    "d1[\"id\"] = 10\n",
    "d1[\"name\"] = \"Badar\"\n",
    "d1[\"course\"] = \"AI\"\n",
    "d1"
   ]
  },
  {
   "cell_type": "code",
   "execution_count": 13,
   "metadata": {},
   "outputs": [
    {
     "data": {
      "text/plain": [
       "{'id': 25, 'name': 'Badar', 'Course': 'AI'}"
      ]
     },
     "execution_count": 13,
     "metadata": {},
     "output_type": "execute_result"
    }
   ],
   "source": [
    "# if keys are diuplciated then last one key will be set with value, \n",
    "d1 = {\"id\":2,\n",
    "     \"name\":\"Badar\",\n",
    "      \"id\" : 25,\n",
    "     \"Course\":\"AI\"}\n",
    "d1"
   ]
  },
  {
   "cell_type": "code",
   "execution_count": 15,
   "metadata": {},
   "outputs": [
    {
     "name": "stdout",
     "output_type": "stream",
     "text": [
      "{'id': 25, 'name': 'Badar', 'Course': 'AI'}\n",
      "{}\n"
     ]
    }
   ],
   "source": [
    "d1 = {'id': 25, 'name': 'Badar', 'Course': 'AI'}\n",
    "print(d1)\n",
    "d1.clear()\n",
    "print(d1)"
   ]
  },
  {
   "cell_type": "code",
   "execution_count": 19,
   "metadata": {},
   "outputs": [
    {
     "name": "stdout",
     "output_type": "stream",
     "text": [
      "{'id': 25, 'name': 'Badar', 'Course': 'AI'}\n",
      "{'id': 25, 'name': 'Badar', 'Course': 'AI'}\n"
     ]
    }
   ],
   "source": [
    "# now delete the list, delete will remove index and value both\n",
    "d1 = {'id': 25, 'name': 'Badar', 'Course': 'AI'}\n",
    "print(d1)\n",
    "#d1.delete()\n",
    "del d1\n",
    "print(d1)"
   ]
  },
  {
   "cell_type": "code",
   "execution_count": 23,
   "metadata": {},
   "outputs": [
    {
     "name": "stdout",
     "output_type": "stream",
     "text": [
      "{'id': 25, 'name': 'Badar', 'Course': 'AI'}\n",
      "{'id': 25, 'name': 'Yousaf', 'Course': 'AI'}\n",
      "{'id': 25, 'name': 'Badar', 'Course': 'AI'}\n"
     ]
    }
   ],
   "source": [
    "d1 = {'id': 25, 'name': 'Badar', 'Course': 'AI'}\n",
    "print(d1)\n",
    "d2 = d1.copy()\n",
    "d1[\"name\"] = \"Yousaf\" #  here update the name in d1\n",
    "print(d1)\n",
    "print(d2)"
   ]
  },
  {
   "cell_type": "code",
   "execution_count": 24,
   "metadata": {},
   "outputs": [
    {
     "data": {
      "text/plain": [
       "{'name': None, 'id': None, 'contact': None, 'DOB': None, 'CNIC': None}"
      ]
     },
     "execution_count": 24,
     "metadata": {},
     "output_type": "execute_result"
    }
   ],
   "source": [
    "#prompt keys\n",
    "#create dictionary against keys\n",
    "l1 = ['name','id','contact','DOB','CNIC']\n",
    "\n",
    "dict.fromkeys(l1)"
   ]
  },
  {
   "cell_type": "code",
   "execution_count": null,
   "metadata": {},
   "outputs": [],
   "source": []
  },
  {
   "cell_type": "code",
   "execution_count": 53,
   "metadata": {},
   "outputs": [
    {
     "name": "stdout",
     "output_type": "stream",
     "text": [
      "Enter id:a\n",
      "Enter name:a\n",
      "Enter contact:a\n",
      "Enter DOB:a\n",
      "Enter CNIC:a\n"
     ]
    },
    {
     "data": {
      "text/plain": [
       "{'a': None}"
      ]
     },
     "execution_count": 53,
     "metadata": {},
     "output_type": "execute_result"
    }
   ],
   "source": [
    "#take input from user and create dictionary\n",
    "id = input(\"Enter id:\")\n",
    "name = input(\"Enter name:\")\n",
    "contact = input(\"Enter contact:\")\n",
    "DOB = input(\"Enter DOB:\")\n",
    "CNIC = input(\"Enter CNIC:\")\n",
    "l1 = [id,name,contact,DOB,CNIC]\n",
    "dict.fromkeys(l1)\n"
   ]
  },
  {
   "cell_type": "code",
   "execution_count": null,
   "metadata": {},
   "outputs": [],
   "source": [
    "l1= input(\"Enter keys\")\n",
    "print(l1)\n"
   ]
  },
  {
   "cell_type": "code",
   "execution_count": 2,
   "metadata": {},
   "outputs": [
    {
     "name": "stdout",
     "output_type": "stream",
     "text": [
      "Enter keysa,b,c,d,e,f\n"
     ]
    },
    {
     "data": {
      "text/plain": [
       "{'a': None, 'b': None, 'c': None, 'd': None, 'e': None, 'f': None}"
      ]
     },
     "execution_count": 2,
     "metadata": {},
     "output_type": "execute_result"
    }
   ],
   "source": [
    "d1 = input(\"Enter keys\").split(\",\")\n",
    "dict.fromkeys(d1)"
   ]
  },
  {
   "cell_type": "code",
   "execution_count": 10,
   "metadata": {},
   "outputs": [
    {
     "name": "stdout",
     "output_type": "stream",
     "text": [
      "Enter keysa,b,c\n",
      "Enter valuesx,y,z\n",
      "{'a': 'x', 'b': 'y', 'c': 'z'}\n"
     ]
    }
   ],
   "source": [
    "l1 = input(\"Enter keys\").split(\",\")\n",
    "l2 = input(\"Enter values\").split(\",\")\n",
    "\n",
    "dl = {}\n",
    "\n",
    "for i in range(len(l1)):\n",
    "    dl[l1[i]] = l2[i]\n",
    "print(dl)"
   ]
  },
  {
   "cell_type": "code",
   "execution_count": 3,
   "metadata": {},
   "outputs": [
    {
     "name": "stdout",
     "output_type": "stream",
     "text": [
      "Enter keysa,b,c\n",
      "Enter valuesx,y,z\n",
      "{'a': 'x'}\n",
      "{'a': 'x', 'b': 'y'}\n",
      "{'a': 'x', 'b': 'y', 'c': 'z'}\n"
     ]
    }
   ],
   "source": [
    "l1 = input(\"Enter keys\").split(\",\")\n",
    "l2 = input(\"Enter values\").split(\",\")\n",
    "\n",
    "dl = {}\n",
    "\n",
    "counter=0\n",
    "while counter<len(l1):\n",
    "    dl[l1[counter]] = l2[counter]\n",
    "    counter += 1\n",
    "    print(dl)"
   ]
  },
  {
   "cell_type": "code",
   "execution_count": 2,
   "metadata": {},
   "outputs": [
    {
     "name": "stdout",
     "output_type": "stream",
     "text": [
      "Enter keysa,b,c\n",
      "Enter valuesx,y,z\n"
     ]
    },
    {
     "data": {
      "text/plain": [
       "{'a': 'x', 'b': 'y', 'c': 'z'}"
      ]
     },
     "execution_count": 2,
     "metadata": {},
     "output_type": "execute_result"
    }
   ],
   "source": [
    "l1 = input(\"Enter keys\").split(\",\")\n",
    "l2 = input(\"Enter values\").split(\",\")\n",
    "\n",
    "{l1[i]:l2[i] for i in range(len(l1))}"
   ]
  },
  {
   "cell_type": "code",
   "execution_count": 5,
   "metadata": {},
   "outputs": [
    {
     "name": "stdout",
     "output_type": "stream",
     "text": [
      "Enter keys: a,b,c\n",
      "Enter values: x,y,z\n"
     ]
    },
    {
     "data": {
      "text/plain": [
       "[('a', 'x'), ('b', 'y'), ('c', 'z')]"
      ]
     },
     "execution_count": 5,
     "metadata": {},
     "output_type": "execute_result"
    }
   ],
   "source": [
    "l1 = input(\"Enter keys: \").split(\",\")\n",
    "l2 = input(\"Enter values: \").split(\",\")\n",
    "\n",
    "list(zip(l1,l2))"
   ]
  },
  {
   "cell_type": "code",
   "execution_count": 8,
   "metadata": {},
   "outputs": [
    {
     "ename": "SyntaxError",
     "evalue": "invalid syntax (<ipython-input-8-9d0ef467c0e4>, line 4)",
     "output_type": "error",
     "traceback": [
      "\u001b[1;36m  File \u001b[1;32m\"<ipython-input-8-9d0ef467c0e4>\"\u001b[1;36m, line \u001b[1;32m4\u001b[0m\n\u001b[1;33m    for k v in len(zip(l1,l2)):\u001b[0m\n\u001b[1;37m          ^\u001b[0m\n\u001b[1;31mSyntaxError\u001b[0m\u001b[1;31m:\u001b[0m invalid syntax\n"
     ]
    }
   ],
   "source": [
    "l1 = input(\"Enter keys: \").split(\",\")\n",
    "l2 = input(\"Enter values: \").split(\",\")\n",
    "dl={}\n",
    "for k v in zip(l1,l2):\n",
    "    dl[k] = v\n",
    "    print dl\n",
    "\n",
    "    "
   ]
  },
  {
   "cell_type": "code",
   "execution_count": 9,
   "metadata": {},
   "outputs": [
    {
     "name": "stdout",
     "output_type": "stream",
     "text": [
      "Enter keys: a,b,c\n",
      "Enter values: x,y,z\n",
      "<zip object at 0x0000000C6F40A3C8>\n"
     ]
    },
    {
     "data": {
      "text/plain": [
       "{'a': 'x', 'b': 'y', 'c': 'z'}"
      ]
     },
     "execution_count": 9,
     "metadata": {},
     "output_type": "execute_result"
    }
   ],
   "source": [
    "l1 = input(\"Enter keys: \").split(\",\")\n",
    "l2 = input(\"Enter values: \").split(\",\")\n",
    "print(zip(l1,l2))\n",
    "dict(zip(l1,l2))"
   ]
  },
  {
   "cell_type": "code",
   "execution_count": null,
   "metadata": {},
   "outputs": [],
   "source": [
    "{\n",
    "    id:20\n",
    "    name: 'ABC'\n",
    "    skills: [pyton,c,C++,...]\n",
    "}"
   ]
  },
  {
   "cell_type": "code",
   "execution_count": 13,
   "metadata": {},
   "outputs": [
    {
     "name": "stdout",
     "output_type": "stream",
     "text": [
      "Enter id: 12\n",
      "Enter name: badar\n",
      "Enter skills: Python, C#, JS\n"
     ]
    },
    {
     "data": {
      "text/plain": [
       "{'id': '12', 'name': 'badar', 'skills': ['Python', ' C#', ' JS']}"
      ]
     },
     "execution_count": 13,
     "metadata": {},
     "output_type": "execute_result"
    }
   ],
   "source": [
    "# take input from student\n",
    "dictl = {}\n",
    "dictl[\"id\"] = input(\"Enter id: \")\n",
    "dictl[\"name\"] = input(\"Enter name: \")\n",
    "dictl[\"skills\"] = input(\"Enter skills: \").split(\",\")\n",
    "dictl\n"
   ]
  },
  {
   "cell_type": "code",
   "execution_count": 23,
   "metadata": {
    "scrolled": true
   },
   "outputs": [
    {
     "name": "stdout",
     "output_type": "stream",
     "text": [
      "['A', 'B', 'C', 'D', 'E', 'F', 'G', 'H', 'I', 'J', 'K', 'L', 'M', 'N', 'O', 'P', 'Q', 'R', 'S', 'T', 'U', 'V', 'W', 'X', 'Y', 'Z']\n",
      "['a', 'b', 'c', 'd', 'e', 'f', 'g', 'h', 'i', 'j', 'k', 'l', 'm', 'n', 'o', 'p', 'q', 'r', 's', 't', 'u', 'v', 'w', 'x', 'y', 'z']\n",
      "['0', '1', '2', '3', '4', '5', '6', '7', '8', '9']\n"
     ]
    },
    {
     "data": {
      "text/plain": [
       "[('A', 'z', '0'),\n",
       " ('B', 'y', '1'),\n",
       " ('C', 'x', '2'),\n",
       " ('D', 'w', '3'),\n",
       " ('E', 'v', '4'),\n",
       " ('F', 'u', '5'),\n",
       " ('G', 't', '6'),\n",
       " ('H', 's', '7'),\n",
       " ('I', 'r', '8'),\n",
       " ('J', 'q', '9')]"
      ]
     },
     "execution_count": 23,
     "metadata": {},
     "output_type": "execute_result"
    }
   ],
   "source": [
    "#task\n",
    "a = [chr(i) for i in range(65,91)]\n",
    "b = [chr(i) for i in range(97,123)]\n",
    "c = [chr(i) for i in range(48,58)]\n",
    "\n",
    "d = zip(a,sorted(b, reverse=True),c)\n",
    "print(a,b,c, sep=\"\\n\")\n",
    "list(d)"
   ]
  },
  {
   "cell_type": "code",
   "execution_count": 26,
   "metadata": {},
   "outputs": [
    {
     "data": {
      "text/plain": [
       "[('J', 'j', '9'),\n",
       " ('I', 'i', '8'),\n",
       " ('H', 'h', '7'),\n",
       " ('G', 'g', '6'),\n",
       " ('F', 'f', '5'),\n",
       " ('E', 'e', '4'),\n",
       " ('D', 'd', '3'),\n",
       " ('C', 'c', '2'),\n",
       " ('B', 'b', '1'),\n",
       " ('A', 'a', '0')]"
      ]
     },
     "execution_count": 26,
     "metadata": {},
     "output_type": "execute_result"
    }
   ],
   "source": [
    "#task\n",
    "a = [chr(i) for i in range(65,91)]\n",
    "b = [chr(i) for i in range(97,123)]\n",
    "c = [chr(i) for i in range(48,58)]\n",
    "\n",
    "d = zip(a,b,c)\n",
    "#print(a,b,c, sep=\"\\n\")\n",
    "sorted(list(d), reverse=True)"
   ]
  },
  {
   "cell_type": "raw",
   "metadata": {},
   "source": [
    "#task\n",
    "{\n",
    "    a:1\n",
    "    b:5\n",
    "    c:2\n",
    "    d:3\n",
    "}\n",
    "sorting dictionary base on keys\n",
    "{\n",
    "    a:1\n",
    "    b:2\n",
    "    c:5\n",
    "    d:3\n",
    "}\n",
    "\n",
    "sorting dictionary base on values\n",
    "{\n",
    "    a:1\n",
    "    b:2\n",
    "    d:3\n",
    "    c:5\n",
    "}"
   ]
  },
  {
   "cell_type": "code",
   "execution_count": 30,
   "metadata": {},
   "outputs": [
    {
     "data": {
      "text/plain": [
       "[('J', 'q', '9'),\n",
       " ('I', 'r', '8'),\n",
       " ('H', 's', '7'),\n",
       " ('G', 't', '6'),\n",
       " ('F', 'u', '5'),\n",
       " ('E', 'v', '4'),\n",
       " ('D', 'w', '3'),\n",
       " ('C', 'x', '2'),\n",
       " ('B', 'y', '1'),\n",
       " ('A', 'z', '0')]"
      ]
     },
     "execution_count": 30,
     "metadata": {},
     "output_type": "execute_result"
    }
   ],
   "source": [
    "d = [('A', 'z', '0'),\n",
    " ('B', 'y', '1'),\n",
    " ('C', 'x', '2'),\n",
    " ('D', 'w', '3'),\n",
    " ('E', 'v', '4'),\n",
    " ('F', 'u', '5'),\n",
    " ('G', 't', '6'),\n",
    " ('H', 's', '7'),\n",
    " ('I', 'r', '8'),\n",
    " ('J', 'q', '9')]\n",
    "\n",
    "sorted(d,reverse=True) # it will sort on first column"
   ]
  },
  {
   "cell_type": "code",
   "execution_count": 36,
   "metadata": {},
   "outputs": [
    {
     "data": {
      "text/plain": [
       "[('J', 'q', '9'),\n",
       " ('I', 'r', '8'),\n",
       " ('H', 's', '7'),\n",
       " ('G', 't', '6'),\n",
       " ('F', 'u', '5'),\n",
       " ('E', 'v', '4'),\n",
       " ('D', 'w', '3'),\n",
       " ('C', 'x', '2'),\n",
       " ('B', 'y', '1'),\n",
       " ('A', 'z', '0')]"
      ]
     },
     "execution_count": 36,
     "metadata": {},
     "output_type": "execute_result"
    }
   ],
   "source": [
    "# column based sort\n",
    "d = [('A', 'z', '0'),\n",
    " ('B', 'y', '1'),\n",
    " ('C', 'x', '2'),\n",
    " ('D', 'w', '3'),\n",
    " ('E', 'v', '4'),\n",
    " ('F', 'u', '5'),\n",
    " ('G', 't', '6'),\n",
    " ('H', 's', '7'),\n",
    " ('I', 'r', '8'),\n",
    " ('J', 'q', '9')]\n",
    "\n",
    "sorted(d,reverse=True, key=lambda x:x[2]) # sort with values and column"
   ]
  },
  {
   "cell_type": "code",
   "execution_count": 46,
   "metadata": {},
   "outputs": [
    {
     "data": {
      "text/plain": [
       "[('J', 'q', '9'),\n",
       " ('I', 'r', '8'),\n",
       " ('H', 's', '7'),\n",
       " ('G', 't', '6'),\n",
       " ('F', 'u', '5'),\n",
       " ('E', 'v', '4'),\n",
       " ('D', 'w', '3'),\n",
       " ('C', 'x', '2'),\n",
       " ('B', 'y', '1'),\n",
       " ('A', 'z', '0')]"
      ]
     },
     "execution_count": 46,
     "metadata": {},
     "output_type": "execute_result"
    }
   ],
   "source": [
    "# column based sort\n",
    "d = [('A', 'z', '0'),\n",
    " ('B', 'y', '1'),\n",
    " ('C', 'x', '2'),\n",
    " ('D', 'w', '3'),\n",
    " ('E', 'v', '4'),\n",
    " ('F', 'u', '5'),\n",
    " ('G', 't', '6'),\n",
    " ('H', 's', '7'),\n",
    " ('I', 'r', '8'),\n",
    " ('J', 'q', '9')]\n",
    "\n",
    "def abc(x):\n",
    "  return x[2] #sort on col, pass col number in it to sort on that column\n",
    "\n",
    "\n",
    "#abc(('A','z','0'))\n",
    "#sorted(d,reverse=True, key=lambda x:x[2])\n",
    "sorted(d,reverse=True, key=abc)\n",
    "\n"
   ]
  },
  {
   "cell_type": "code",
   "execution_count": 58,
   "metadata": {},
   "outputs": [
    {
     "name": "stdout",
     "output_type": "stream",
     "text": [
      "a\n",
      "b\n",
      "c\n",
      "d\n"
     ]
    },
    {
     "data": {
      "text/plain": [
       "{'a': 1, 'b': 2, 'c': 5, 'd': 3}"
      ]
     },
     "execution_count": 58,
     "metadata": {},
     "output_type": "execute_result"
    }
   ],
   "source": [
    "d1={\n",
    "    'a':1,\n",
    "    'c':5,\n",
    "    'b':2,\n",
    "    'd':3\n",
    "}\n",
    "sorted(d1.values()) # sort by values\n",
    "\n",
    "\n",
    "d2 = {}\n",
    "for k in sorted(d1.keys()):\n",
    "    print(k)\n",
    "    d2[k] = d1[k]\n",
    "d2"
   ]
  },
  {
   "cell_type": "code",
   "execution_count": 64,
   "metadata": {},
   "outputs": [
    {
     "data": {
      "text/plain": [
       "{'c': 5, 'd': 3, 'b': 2, 'a': 1}"
      ]
     },
     "execution_count": 64,
     "metadata": {},
     "output_type": "execute_result"
    }
   ],
   "source": [
    "d1={\n",
    "    'a':1,\n",
    "    'c':5,\n",
    "    'b':2,\n",
    "    'd':3\n",
    "}\n",
    "list(d1.items())\n",
    "{k:v for k,v in sorted(d1.items(), key=lambda x:x[0])} # sort by col\n",
    "{k:v for k,v in sorted(d1.items(), key=lambda x:x[1])} # sort by val\n",
    "{k:v for k,v in sorted(d1.items(), key=lambda x:x[1], reverse=True)} # sort and revers values"
   ]
  },
  {
   "cell_type": "code",
   "execution_count": 65,
   "metadata": {},
   "outputs": [],
   "source": [
    "# take input from student, \n",
    "#(id:'', name: '', skills=[a,b,c]}\n",
    " #append data in dictionary after asking yes if no then break"
   ]
  },
  {
   "cell_type": "code",
   "execution_count": 73,
   "metadata": {},
   "outputs": [
    {
     "ename": "SyntaxError",
     "evalue": "invalid syntax (<ipython-input-73-d8c538424775>, line 7)",
     "output_type": "error",
     "traceback": [
      "\u001b[1;36m  File \u001b[1;32m\"<ipython-input-73-d8c538424775>\"\u001b[1;36m, line \u001b[1;32m7\u001b[0m\n\u001b[1;33m    while input(\"Enter more skills\") == \"y\"\u001b[0m\n\u001b[1;37m                                           ^\u001b[0m\n\u001b[1;31mSyntaxError\u001b[0m\u001b[1;31m:\u001b[0m invalid syntax\n"
     ]
    }
   ],
   "source": [
    "dict = {}\n",
    "dict[\"id\"] = input(\"Enter id:\")\n",
    "dict[\"name\"] = input(\"Enter name:\")\n",
    "dict[\"skills\"] = input(\"Enter skills\")\n",
    "\n",
    "i=3\n",
    "while input(\"Enter more skills\") == \"y\"\n",
    "    dict[\"skills\"].append(input(\"Enter more skills\"))\n",
    "    print(dict)\n",
    "    i+=1\n"
   ]
  },
  {
   "cell_type": "code",
   "execution_count": 77,
   "metadata": {},
   "outputs": [
    {
     "name": "stdout",
     "output_type": "stream",
     "text": [
      "ID:12\n",
      "Name:asd\n",
      "Skillsas,dasd,\n",
      "Enter more skills y/n: 12\n",
      "ID:12\n",
      "Name:asd\n",
      "Skillsasd,asd\n",
      "Enter more skills y/n: n\n"
     ]
    }
   ],
   "source": [
    "students = []\n",
    "flag = ''\n",
    "while flag!='n':\n",
    "    d1 = {}\n",
    "    d1['id'] = input(\"ID:\")\n",
    "    d1['name'] = input(\"Name:\")\n",
    "    d1['skills'] = input(\"Skills\").split(\",\")\n",
    "    students.append(d1)\n",
    "    flag = input(\"Enter more skills y/n: \")\n",
    "    students"
   ]
  },
  {
   "cell_type": "raw",
   "metadata": {},
   "source": [
    "#Home work\n",
    "#Python Test will be from chap 1 to chap 40\n",
    "# read first chapter 10 python\n",
    "# chapter 2 of Data science from scratch\n",
    "#10 assignment on github"
   ]
  }
 ],
 "metadata": {
  "kernelspec": {
   "display_name": "Python 3",
   "language": "python",
   "name": "python3"
  },
  "language_info": {
   "codemirror_mode": {
    "name": "ipython",
    "version": 3
   },
   "file_extension": ".py",
   "mimetype": "text/x-python",
   "name": "python",
   "nbconvert_exporter": "python",
   "pygments_lexer": "ipython3",
   "version": "3.7.4"
  }
 },
 "nbformat": 4,
 "nbformat_minor": 2
}
