{
 "cells": [
  {
   "cell_type": "code",
   "execution_count": 14,
   "metadata": {},
   "outputs": [
    {
     "name": "stdout",
     "output_type": "stream",
     "text": [
      "Bismillah -hir-Rehman-nir-Rahim\n"
     ]
    }
   ],
   "source": [
    "print(\"Bismillah -hir-Rehman-nir-Rahim\")"
   ]
  },
  {
   "cell_type": "markdown",
   "metadata": {},
   "source": [
    "# REVISION"
   ]
  },
  {
   "cell_type": "code",
   "execution_count": 4,
   "metadata": {},
   "outputs": [
    {
     "ename": "SyntaxError",
     "evalue": "invalid syntax (<ipython-input-4-6673a64f4d8b>, line 1)",
     "output_type": "error",
     "traceback": [
      "\u001b[1;36m  File \u001b[1;32m\"<ipython-input-4-6673a64f4d8b>\"\u001b[1;36m, line \u001b[1;32m1\u001b[0m\n\u001b[1;33m    if name==\"badar\"\u001b[0m\n\u001b[1;37m                    ^\u001b[0m\n\u001b[1;31mSyntaxError\u001b[0m\u001b[1;31m:\u001b[0m invalid syntax\n"
     ]
    }
   ],
   "source": [
    "if name==\"badar\"\n",
    "    print(\"yes\")\n",
    "elif\n",
    "    print(\"no\")"
   ]
  },
  {
   "cell_type": "code",
   "execution_count": 15,
   "metadata": {},
   "outputs": [
    {
     "name": "stdout",
     "output_type": "stream",
     "text": [
      "enter the marks:70\n",
      "C Grade\n"
     ]
    }
   ],
   "source": [
    "result = int(input(\"enter the marks:\"))\n",
    "if(result >= 80 and result <=90):\n",
    "    print(\"A Grade\")\n",
    "elif (result >= 70 and result <=80):\n",
    "    print(\"C Grade\")\n",
    "elif (result >= 60 and result <=70):\n",
    "    print(\"D Grade\")\n",
    "elif (result == 60):\n",
    "    print(\"E Grade\")\n",
    "    "
   ]
  },
  {
   "cell_type": "code",
   "execution_count": 9,
   "metadata": {},
   "outputs": [
    {
     "name": "stdout",
     "output_type": "stream",
     "text": [
      "DVD return day:1\n",
      "DVD return Time (24-hr):asd\n"
     ]
    },
    {
     "ename": "ValueError",
     "evalue": "invalid literal for int() with base 10: 'asd'",
     "output_type": "error",
     "traceback": [
      "\u001b[1;31m---------------------------------------------------------------------------\u001b[0m",
      "\u001b[1;31mValueError\u001b[0m                                Traceback (most recent call last)",
      "\u001b[1;32m<ipython-input-9-05f045976a5c>\u001b[0m in \u001b[0;36m<module>\u001b[1;34m\u001b[0m\n\u001b[0;32m      1\u001b[0m \u001b[0mreturnday\u001b[0m \u001b[1;33m=\u001b[0m \u001b[0minput\u001b[0m\u001b[1;33m(\u001b[0m\u001b[1;34m\"DVD return day:\"\u001b[0m\u001b[1;33m)\u001b[0m\u001b[1;33m\u001b[0m\u001b[1;33m\u001b[0m\u001b[0m\n\u001b[1;32m----> 2\u001b[1;33m \u001b[0mdvdreturn\u001b[0m \u001b[1;33m=\u001b[0m \u001b[0mint\u001b[0m\u001b[1;33m(\u001b[0m\u001b[0minput\u001b[0m\u001b[1;33m(\u001b[0m\u001b[1;34m\"DVD return Time (24-hr):\"\u001b[0m\u001b[1;33m)\u001b[0m\u001b[1;33m)\u001b[0m\u001b[1;33m\u001b[0m\u001b[1;33m\u001b[0m\u001b[0m\n\u001b[0m\u001b[0;32m      3\u001b[0m \u001b[0mdayskept\u001b[0m \u001b[1;33m=\u001b[0m \u001b[0mint\u001b[0m\u001b[1;33m(\u001b[0m\u001b[0minput\u001b[0m\u001b[1;33m(\u001b[0m\u001b[1;34m\"Enter days kept:\"\u001b[0m\u001b[1;33m)\u001b[0m\u001b[1;33m)\u001b[0m\u001b[1;33m\u001b[0m\u001b[1;33m\u001b[0m\u001b[0m\n\u001b[0;32m      4\u001b[0m \u001b[0mrent\u001b[0m \u001b[1;33m=\u001b[0m \u001b[1;36m1.59\u001b[0m\u001b[1;33m\u001b[0m\u001b[1;33m\u001b[0m\u001b[0m\n\u001b[0;32m      5\u001b[0m \u001b[0mdisc30\u001b[0m \u001b[1;33m=\u001b[0m \u001b[0mrent\u001b[0m \u001b[1;33m*\u001b[0m \u001b[1;36m30\u001b[0m \u001b[1;33m/\u001b[0m \u001b[1;36m100\u001b[0m\u001b[1;33m\u001b[0m\u001b[1;33m\u001b[0m\u001b[0m\n",
      "\u001b[1;31mValueError\u001b[0m: invalid literal for int() with base 10: 'asd'"
     ]
    }
   ],
   "source": [
    "returnday = input(\"DVD return day:\")\n",
    "dvdreturn = int(input(\"DVD return Time (24-hr):\"))\n",
    "dayskept = int(input(\"Enter days kept:\"))\n",
    "rent = 1.59\n",
    "disc30 = rent * 30 / 100\n",
    "disc50 = rent * 50 /100\n",
    "if(dvdreturn <= 8):\n",
    "    rent = rent\n",
    "elif(dvdreturn > 20):\n",
    "    rent += rent\n",
    "    scratched = input(\"Is DVD scratched (y/n):\")\n",
    "    if(scratched == \"y\"):\n",
    "        rent += 1 \n",
    "if(returnday == \"Sunday\"):\n",
    "    rent = dayskept*rent - disc30\n",
    "    print(\"Adter 30% Discount rent:\" + str(rent))\n",
    "    scratched = input(\"Is DVD scratched (y/n):\")\n",
    "    if(scratched == \"y\"):\n",
    "        rent += 2 \n",
    "        print(\"Returned DVD is scratched after deduction rent:\" + str(rent))\n",
    "if(returnday == \"Thursday\"):\n",
    "    rent = dayskept*rent - disc50\n",
    "print (\"Your total rent is: \" + str(rent))"
   ]
  },
  {
   "cell_type": "code",
   "execution_count": 30,
   "metadata": {},
   "outputs": [
    {
     "name": "stdout",
     "output_type": "stream",
     "text": [
      "['banana', 'cherry', 'orange']\n",
      "[]\n",
      "['banana', 'orange']\n",
      "['apple', 'banana']\n",
      "['apple', 'banana']\n"
     ]
    }
   ],
   "source": [
    "lst = [\"apple\",\"banana\", \"cherry\", \"orange\", \"kiwi\", \"lemon\"]\n",
    "print(lst[1:-2:1])\n",
    "print(lst[1:-7:1])\n",
    "print(lst[1:5:2])\n",
    "print(lst[:-4])\n",
    "print(lst[:2])"
   ]
  },
  {
   "cell_type": "code",
   "execution_count": null,
   "metadata": {},
   "outputs": [],
   "source": []
  },
  {
   "cell_type": "code",
   "execution_count": null,
   "metadata": {},
   "outputs": [],
   "source": []
  },
  {
   "cell_type": "code",
   "execution_count": 31,
   "metadata": {},
   "outputs": [
    {
     "ename": "NameError",
     "evalue": "name 'E1' is not defined",
     "output_type": "error",
     "traceback": [
      "\u001b[1;31m---------------------------------------------------------------------------\u001b[0m",
      "\u001b[1;31mNameError\u001b[0m                                 Traceback (most recent call last)",
      "\u001b[1;32m<ipython-input-31-c3b3e5283b4c>\u001b[0m in \u001b[0;36m<module>\u001b[1;34m\u001b[0m\n\u001b[1;32m----> 1\u001b[1;33m \u001b[0mEmMployee\u001b[0m \u001b[1;33m=\u001b[0m \u001b[1;33m[\u001b[0m\u001b[0mE1\u001b[0m\u001b[1;33m,\u001b[0m\u001b[0mE2\u001b[0m\u001b[1;33m,\u001b[0m\u001b[0mE3\u001b[0m\u001b[1;33m,\u001b[0m\u001b[0mE4\u001b[0m\u001b[1;33m,\u001b[0m\u001b[0mE5\u001b[0m\u001b[1;33m]\u001b[0m\u001b[1;33m\u001b[0m\u001b[1;33m\u001b[0m\u001b[0m\n\u001b[0m\u001b[0;32m      2\u001b[0m \u001b[0mEmployee\u001b[0m\u001b[1;33m[\u001b[0m\u001b[1;36m1\u001b[0m\u001b[1;33m:\u001b[0m\u001b[1;36m3\u001b[0m\u001b[1;33m]\u001b[0m\u001b[1;33m\u001b[0m\u001b[1;33m\u001b[0m\u001b[0m\n",
      "\u001b[1;31mNameError\u001b[0m: name 'E1' is not defined"
     ]
    }
   ],
   "source": [
    "EmMployee = [E1,E2,E3,E4,E5]\n",
    "Employee[1:3]"
   ]
  },
  {
   "cell_type": "code",
   "execution_count": 45,
   "metadata": {},
   "outputs": [
    {
     "name": "stdout",
     "output_type": "stream",
     "text": [
      "Found 6 at index: 6\n"
     ]
    }
   ],
   "source": [
    "lst = [0,1,2,3,4,5,6,7,8,9]\n",
    "counter=0\n",
    "while (counter<10):\n",
    "    if(lst[counter]==6):\n",
    "        print(\"Found 6 at index: \"+ str(counter))\n",
    "        break\n",
    "    else:\n",
    "        counter += 1"
   ]
  },
  {
   "cell_type": "markdown",
   "metadata": {},
   "source": [
    "# Dictionaries"
   ]
  },
  {
   "cell_type": "code",
   "execution_count": 52,
   "metadata": {},
   "outputs": [
    {
     "name": "stdout",
     "output_type": "stream",
     "text": [
      "Please enter id: 1\n",
      "Please enter name: sd\n",
      "Please enter your skills sda\n",
      "Enter x to exit or any other key to contiuex\n"
     ]
    },
    {
     "data": {
      "text/plain": [
       "[{'id': '1', 'name': 'sd', 'skills': ['sda']}]"
      ]
     },
     "execution_count": 52,
     "metadata": {},
     "output_type": "execute_result"
    }
   ],
   "source": [
    "lst=[]\n",
    "chk=''\n",
    "while chk.lower() != 'x':\n",
    "    dic1 = { \n",
    "        \"id\":input(\"Please enter id: \"),\n",
    "        \"name\":input(\"Please enter name: \"),\n",
    "        \"skills\":input(\"Please enter your skills \").split()\n",
    "    }\n",
    "    lst.append(dic1)\n",
    "    chk = input(\"Enter x to exit or any other key to contiue\")\n",
    "lst"
   ]
  },
  {
   "cell_type": "code",
   "execution_count": 55,
   "metadata": {},
   "outputs": [
    {
     "name": "stdout",
     "output_type": "stream",
     "text": [
      "Please enter name: 1\n",
      "Please enter Maths marks: 12\n",
      "Please enter Eng marks: 23\n",
      "Please enter Science marks: 34\n",
      "Please enter Urdu marks: 45\n",
      "Please enter your hobbies sep by comma: asd,sdf,df\n",
      "Enter x to exit or any other key to contiuex\n"
     ]
    },
    {
     "data": {
      "text/plain": [
       "[{'name': '1',\n",
       "  'marks': {'Maths': '12', 'Eng': '23', 'Science': '34', 'Urdu': '45'},\n",
       "  'hobbies': ['asd', 'sdf', 'df']}]"
      ]
     },
     "execution_count": 55,
     "metadata": {},
     "output_type": "execute_result"
    }
   ],
   "source": [
    "lst=[]\n",
    "chk=''\n",
    "while chk.lower() != 'x':\n",
    "    dic1 = { \n",
    "        \"name\":input(\"Please enter name: \"),\n",
    "        \"marks\":{\n",
    "                \"Maths\":input(\"Please enter Maths marks: \"),\n",
    "                \"Eng\":input(\"Please enter Eng marks: \"),\n",
    "                \"Science\":input(\"Please enter Science marks: \"),\n",
    "                \"Urdu\":input(\"Please enter Urdu marks: \")\n",
    "                },\n",
    "        \"hobbies\":input(\"Please enter your hobbies sep by comma: \").split(\",\")\n",
    "    }\n",
    "    lst.append(dic1)\n",
    "    chk = input(\"Enter x to exit or any other key to contiue\")\n",
    "lst"
   ]
  }
 ],
 "metadata": {
  "kernelspec": {
   "display_name": "Python 3",
   "language": "python",
   "name": "python3"
  }
 },
 "nbformat": 4,
 "nbformat_minor": 2
}
